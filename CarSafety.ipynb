{
  "nbformat": 4,
  "nbformat_minor": 0,
  "metadata": {
    "colab": {
      "name": "CarSafety.ipynb",
      "provenance": [],
      "collapsed_sections": [],
      "authorship_tag": "ABX9TyNg2cI5x3LFXWCSgzvK2PI1",
      "include_colab_link": true
    },
    "kernelspec": {
      "name": "python3",
      "display_name": "Python 3"
    },
    "language_info": {
      "name": "python"
    }
  },
  "cells": [
    {
      "cell_type": "markdown",
      "metadata": {
        "id": "view-in-github",
        "colab_type": "text"
      },
      "source": [
        "<a href=\"https://colab.research.google.com/github/RoshanAswal/Car_evaluation/blob/main/CarSafety.ipynb\" target=\"_parent\"><img src=\"https://colab.research.google.com/assets/colab-badge.svg\" alt=\"Open In Colab\"/></a>"
      ]
    },
    {
      "cell_type": "code",
      "execution_count": 1,
      "metadata": {
        "id": "FbKJXIZlT0Vv",
        "colab": {
          "base_uri": "https://localhost:8080/"
        },
        "outputId": "9b1e61c5-7211-4924-c6f4-e2eca7414e84"
      },
      "outputs": [
        {
          "output_type": "stream",
          "name": "stdout",
          "text": [
            "Collecting category-encoders\n",
            "  Downloading category_encoders-2.3.0-py2.py3-none-any.whl (82 kB)\n",
            "\u001b[?25l\r\u001b[K     |████                            | 10 kB 20.1 MB/s eta 0:00:01\r\u001b[K     |████████                        | 20 kB 10.2 MB/s eta 0:00:01\r\u001b[K     |████████████                    | 30 kB 10.0 MB/s eta 0:00:01\r\u001b[K     |████████████████                | 40 kB 9.2 MB/s eta 0:00:01\r\u001b[K     |████████████████████            | 51 kB 5.1 MB/s eta 0:00:01\r\u001b[K     |████████████████████████        | 61 kB 5.3 MB/s eta 0:00:01\r\u001b[K     |████████████████████████████    | 71 kB 5.5 MB/s eta 0:00:01\r\u001b[K     |███████████████████████████████▉| 81 kB 6.1 MB/s eta 0:00:01\r\u001b[K     |████████████████████████████████| 82 kB 365 kB/s \n",
            "\u001b[?25hRequirement already satisfied: numpy>=1.14.0 in /usr/local/lib/python3.7/dist-packages (from category-encoders) (1.19.5)\n",
            "Requirement already satisfied: scipy>=1.0.0 in /usr/local/lib/python3.7/dist-packages (from category-encoders) (1.4.1)\n",
            "Requirement already satisfied: scikit-learn>=0.20.0 in /usr/local/lib/python3.7/dist-packages (from category-encoders) (1.0.2)\n",
            "Requirement already satisfied: pandas>=0.21.1 in /usr/local/lib/python3.7/dist-packages (from category-encoders) (1.3.5)\n",
            "Requirement already satisfied: patsy>=0.5.1 in /usr/local/lib/python3.7/dist-packages (from category-encoders) (0.5.2)\n",
            "Requirement already satisfied: statsmodels>=0.9.0 in /usr/local/lib/python3.7/dist-packages (from category-encoders) (0.10.2)\n",
            "Requirement already satisfied: python-dateutil>=2.7.3 in /usr/local/lib/python3.7/dist-packages (from pandas>=0.21.1->category-encoders) (2.8.2)\n",
            "Requirement already satisfied: pytz>=2017.3 in /usr/local/lib/python3.7/dist-packages (from pandas>=0.21.1->category-encoders) (2018.9)\n",
            "Requirement already satisfied: six in /usr/local/lib/python3.7/dist-packages (from patsy>=0.5.1->category-encoders) (1.15.0)\n",
            "Requirement already satisfied: threadpoolctl>=2.0.0 in /usr/local/lib/python3.7/dist-packages (from scikit-learn>=0.20.0->category-encoders) (3.1.0)\n",
            "Requirement already satisfied: joblib>=0.11 in /usr/local/lib/python3.7/dist-packages (from scikit-learn>=0.20.0->category-encoders) (1.1.0)\n",
            "Installing collected packages: category-encoders\n",
            "Successfully installed category-encoders-2.3.0\n"
          ]
        }
      ],
      "source": [
        "!pip install -q sklearn\n",
        "!pip install category-encoders\n",
        "%tensorflow_version 2.x"
      ]
    },
    {
      "cell_type": "code",
      "source": [
        "import numpy as np\n",
        "import pandas as pd\n",
        "import matplotlib.pyplot as plt\n",
        "import seaborn as sb\n",
        "from sklearn.model_selection import train_test_split\n",
        "from sklearn.neighbors import KNeighborsClassifier"
      ],
      "metadata": {
        "id": "jYWo2DDQUD7v"
      },
      "execution_count": 2,
      "outputs": []
    },
    {
      "cell_type": "code",
      "source": [
        "from google.colab import files\n",
        "uploaded=files.upload()"
      ],
      "metadata": {
        "colab": {
          "resources": {
            "http://localhost:8080/nbextensions/google.colab/files.js": {
              "data": "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",
              "ok": true,
              "headers": [
                [
                  "content-type",
                  "application/javascript"
                ]
              ],
              "status": 200,
              "status_text": "OK"
            }
          },
          "base_uri": "https://localhost:8080/",
          "height": 75
        },
        "id": "WMuO6Bd0Uh7Z",
        "outputId": "dd6943b6-ce03-4d4c-dddc-2c926d820859"
      },
      "execution_count": 3,
      "outputs": [
        {
          "output_type": "display_data",
          "data": {
            "text/html": [
              "\n",
              "     <input type=\"file\" id=\"files-77f46c7d-1acf-483a-9a19-1c6d0c09a795\" name=\"files[]\" multiple disabled\n",
              "        style=\"border:none\" />\n",
              "     <output id=\"result-77f46c7d-1acf-483a-9a19-1c6d0c09a795\">\n",
              "      Upload widget is only available when the cell has been executed in the\n",
              "      current browser session. Please rerun this cell to enable.\n",
              "      </output>\n",
              "      <script src=\"/nbextensions/google.colab/files.js\"></script> "
            ],
            "text/plain": [
              "<IPython.core.display.HTML object>"
            ]
          },
          "metadata": {}
        },
        {
          "output_type": "stream",
          "name": "stdout",
          "text": [
            "Saving car_evaluation.csv to car_evaluation.csv\n"
          ]
        }
      ]
    },
    {
      "cell_type": "code",
      "source": [
        "import io\n",
        "df=pd.read_csv(io.BytesIO(uploaded['car_evaluation.csv']))"
      ],
      "metadata": {
        "id": "Df3AYPj0U3E8"
      },
      "execution_count": 13,
      "outputs": []
    },
    {
      "cell_type": "code",
      "source": [
        "df.head()"
      ],
      "metadata": {
        "colab": {
          "base_uri": "https://localhost:8080/",
          "height": 206
        },
        "id": "fmHioTzDVwel",
        "outputId": "4d2928ed-e1f3-4afd-e618-0afbdbf5e318"
      },
      "execution_count": 14,
      "outputs": [
        {
          "output_type": "execute_result",
          "data": {
            "text/html": [
              "\n",
              "  <div id=\"df-bcb82c29-b4d4-4e3f-81af-0a66f93a42fe\">\n",
              "    <div class=\"colab-df-container\">\n",
              "      <div>\n",
              "<style scoped>\n",
              "    .dataframe tbody tr th:only-of-type {\n",
              "        vertical-align: middle;\n",
              "    }\n",
              "\n",
              "    .dataframe tbody tr th {\n",
              "        vertical-align: top;\n",
              "    }\n",
              "\n",
              "    .dataframe thead th {\n",
              "        text-align: right;\n",
              "    }\n",
              "</style>\n",
              "<table border=\"1\" class=\"dataframe\">\n",
              "  <thead>\n",
              "    <tr style=\"text-align: right;\">\n",
              "      <th></th>\n",
              "      <th>vhigh</th>\n",
              "      <th>vhigh.1</th>\n",
              "      <th>2</th>\n",
              "      <th>2.1</th>\n",
              "      <th>small</th>\n",
              "      <th>low</th>\n",
              "      <th>unacc</th>\n",
              "    </tr>\n",
              "  </thead>\n",
              "  <tbody>\n",
              "    <tr>\n",
              "      <th>0</th>\n",
              "      <td>vhigh</td>\n",
              "      <td>vhigh</td>\n",
              "      <td>2</td>\n",
              "      <td>2</td>\n",
              "      <td>small</td>\n",
              "      <td>med</td>\n",
              "      <td>unacc</td>\n",
              "    </tr>\n",
              "    <tr>\n",
              "      <th>1</th>\n",
              "      <td>vhigh</td>\n",
              "      <td>vhigh</td>\n",
              "      <td>2</td>\n",
              "      <td>2</td>\n",
              "      <td>small</td>\n",
              "      <td>high</td>\n",
              "      <td>unacc</td>\n",
              "    </tr>\n",
              "    <tr>\n",
              "      <th>2</th>\n",
              "      <td>vhigh</td>\n",
              "      <td>vhigh</td>\n",
              "      <td>2</td>\n",
              "      <td>2</td>\n",
              "      <td>med</td>\n",
              "      <td>low</td>\n",
              "      <td>unacc</td>\n",
              "    </tr>\n",
              "    <tr>\n",
              "      <th>3</th>\n",
              "      <td>vhigh</td>\n",
              "      <td>vhigh</td>\n",
              "      <td>2</td>\n",
              "      <td>2</td>\n",
              "      <td>med</td>\n",
              "      <td>med</td>\n",
              "      <td>unacc</td>\n",
              "    </tr>\n",
              "    <tr>\n",
              "      <th>4</th>\n",
              "      <td>vhigh</td>\n",
              "      <td>vhigh</td>\n",
              "      <td>2</td>\n",
              "      <td>2</td>\n",
              "      <td>med</td>\n",
              "      <td>high</td>\n",
              "      <td>unacc</td>\n",
              "    </tr>\n",
              "  </tbody>\n",
              "</table>\n",
              "</div>\n",
              "      <button class=\"colab-df-convert\" onclick=\"convertToInteractive('df-bcb82c29-b4d4-4e3f-81af-0a66f93a42fe')\"\n",
              "              title=\"Convert this dataframe to an interactive table.\"\n",
              "              style=\"display:none;\">\n",
              "        \n",
              "  <svg xmlns=\"http://www.w3.org/2000/svg\" height=\"24px\"viewBox=\"0 0 24 24\"\n",
              "       width=\"24px\">\n",
              "    <path d=\"M0 0h24v24H0V0z\" fill=\"none\"/>\n",
              "    <path d=\"M18.56 5.44l.94 2.06.94-2.06 2.06-.94-2.06-.94-.94-2.06-.94 2.06-2.06.94zm-11 1L8.5 8.5l.94-2.06 2.06-.94-2.06-.94L8.5 2.5l-.94 2.06-2.06.94zm10 10l.94 2.06.94-2.06 2.06-.94-2.06-.94-.94-2.06-.94 2.06-2.06.94z\"/><path d=\"M17.41 7.96l-1.37-1.37c-.4-.4-.92-.59-1.43-.59-.52 0-1.04.2-1.43.59L10.3 9.45l-7.72 7.72c-.78.78-.78 2.05 0 2.83L4 21.41c.39.39.9.59 1.41.59.51 0 1.02-.2 1.41-.59l7.78-7.78 2.81-2.81c.8-.78.8-2.07 0-2.86zM5.41 20L4 18.59l7.72-7.72 1.47 1.35L5.41 20z\"/>\n",
              "  </svg>\n",
              "      </button>\n",
              "      \n",
              "  <style>\n",
              "    .colab-df-container {\n",
              "      display:flex;\n",
              "      flex-wrap:wrap;\n",
              "      gap: 12px;\n",
              "    }\n",
              "\n",
              "    .colab-df-convert {\n",
              "      background-color: #E8F0FE;\n",
              "      border: none;\n",
              "      border-radius: 50%;\n",
              "      cursor: pointer;\n",
              "      display: none;\n",
              "      fill: #1967D2;\n",
              "      height: 32px;\n",
              "      padding: 0 0 0 0;\n",
              "      width: 32px;\n",
              "    }\n",
              "\n",
              "    .colab-df-convert:hover {\n",
              "      background-color: #E2EBFA;\n",
              "      box-shadow: 0px 1px 2px rgba(60, 64, 67, 0.3), 0px 1px 3px 1px rgba(60, 64, 67, 0.15);\n",
              "      fill: #174EA6;\n",
              "    }\n",
              "\n",
              "    [theme=dark] .colab-df-convert {\n",
              "      background-color: #3B4455;\n",
              "      fill: #D2E3FC;\n",
              "    }\n",
              "\n",
              "    [theme=dark] .colab-df-convert:hover {\n",
              "      background-color: #434B5C;\n",
              "      box-shadow: 0px 1px 3px 1px rgba(0, 0, 0, 0.15);\n",
              "      filter: drop-shadow(0px 1px 2px rgba(0, 0, 0, 0.3));\n",
              "      fill: #FFFFFF;\n",
              "    }\n",
              "  </style>\n",
              "\n",
              "      <script>\n",
              "        const buttonEl =\n",
              "          document.querySelector('#df-bcb82c29-b4d4-4e3f-81af-0a66f93a42fe button.colab-df-convert');\n",
              "        buttonEl.style.display =\n",
              "          google.colab.kernel.accessAllowed ? 'block' : 'none';\n",
              "\n",
              "        async function convertToInteractive(key) {\n",
              "          const element = document.querySelector('#df-bcb82c29-b4d4-4e3f-81af-0a66f93a42fe');\n",
              "          const dataTable =\n",
              "            await google.colab.kernel.invokeFunction('convertToInteractive',\n",
              "                                                     [key], {});\n",
              "          if (!dataTable) return;\n",
              "\n",
              "          const docLinkHtml = 'Like what you see? Visit the ' +\n",
              "            '<a target=\"_blank\" href=https://colab.research.google.com/notebooks/data_table.ipynb>data table notebook</a>'\n",
              "            + ' to learn more about interactive tables.';\n",
              "          element.innerHTML = '';\n",
              "          dataTable['output_type'] = 'display_data';\n",
              "          await google.colab.output.renderOutput(dataTable, element);\n",
              "          const docLink = document.createElement('div');\n",
              "          docLink.innerHTML = docLinkHtml;\n",
              "          element.appendChild(docLink);\n",
              "        }\n",
              "      </script>\n",
              "    </div>\n",
              "  </div>\n",
              "  "
            ],
            "text/plain": [
              "   vhigh vhigh.1  2 2.1  small   low  unacc\n",
              "0  vhigh   vhigh  2   2  small   med  unacc\n",
              "1  vhigh   vhigh  2   2  small  high  unacc\n",
              "2  vhigh   vhigh  2   2    med   low  unacc\n",
              "3  vhigh   vhigh  2   2    med   med  unacc\n",
              "4  vhigh   vhigh  2   2    med  high  unacc"
            ]
          },
          "metadata": {},
          "execution_count": 14
        }
      ]
    },
    {
      "cell_type": "code",
      "source": [
        "df.columns=['Bprice','Mprice','doors','persons','lug_boots','safety','accuracy']"
      ],
      "metadata": {
        "id": "GDBsTKnxV1Vw"
      },
      "execution_count": 15,
      "outputs": []
    },
    {
      "cell_type": "code",
      "source": [
        "df.head()"
      ],
      "metadata": {
        "colab": {
          "base_uri": "https://localhost:8080/",
          "height": 206
        },
        "id": "3N7cdZIzWokS",
        "outputId": "79b32d6b-a646-4f09-cee3-5f256f8a87b7"
      },
      "execution_count": 16,
      "outputs": [
        {
          "output_type": "execute_result",
          "data": {
            "text/html": [
              "\n",
              "  <div id=\"df-4df24fb2-4d23-4e8b-9943-f2423257b666\">\n",
              "    <div class=\"colab-df-container\">\n",
              "      <div>\n",
              "<style scoped>\n",
              "    .dataframe tbody tr th:only-of-type {\n",
              "        vertical-align: middle;\n",
              "    }\n",
              "\n",
              "    .dataframe tbody tr th {\n",
              "        vertical-align: top;\n",
              "    }\n",
              "\n",
              "    .dataframe thead th {\n",
              "        text-align: right;\n",
              "    }\n",
              "</style>\n",
              "<table border=\"1\" class=\"dataframe\">\n",
              "  <thead>\n",
              "    <tr style=\"text-align: right;\">\n",
              "      <th></th>\n",
              "      <th>Bprice</th>\n",
              "      <th>Mprice</th>\n",
              "      <th>doors</th>\n",
              "      <th>persons</th>\n",
              "      <th>lug_boots</th>\n",
              "      <th>safety</th>\n",
              "      <th>accuracy</th>\n",
              "    </tr>\n",
              "  </thead>\n",
              "  <tbody>\n",
              "    <tr>\n",
              "      <th>0</th>\n",
              "      <td>vhigh</td>\n",
              "      <td>vhigh</td>\n",
              "      <td>2</td>\n",
              "      <td>2</td>\n",
              "      <td>small</td>\n",
              "      <td>med</td>\n",
              "      <td>unacc</td>\n",
              "    </tr>\n",
              "    <tr>\n",
              "      <th>1</th>\n",
              "      <td>vhigh</td>\n",
              "      <td>vhigh</td>\n",
              "      <td>2</td>\n",
              "      <td>2</td>\n",
              "      <td>small</td>\n",
              "      <td>high</td>\n",
              "      <td>unacc</td>\n",
              "    </tr>\n",
              "    <tr>\n",
              "      <th>2</th>\n",
              "      <td>vhigh</td>\n",
              "      <td>vhigh</td>\n",
              "      <td>2</td>\n",
              "      <td>2</td>\n",
              "      <td>med</td>\n",
              "      <td>low</td>\n",
              "      <td>unacc</td>\n",
              "    </tr>\n",
              "    <tr>\n",
              "      <th>3</th>\n",
              "      <td>vhigh</td>\n",
              "      <td>vhigh</td>\n",
              "      <td>2</td>\n",
              "      <td>2</td>\n",
              "      <td>med</td>\n",
              "      <td>med</td>\n",
              "      <td>unacc</td>\n",
              "    </tr>\n",
              "    <tr>\n",
              "      <th>4</th>\n",
              "      <td>vhigh</td>\n",
              "      <td>vhigh</td>\n",
              "      <td>2</td>\n",
              "      <td>2</td>\n",
              "      <td>med</td>\n",
              "      <td>high</td>\n",
              "      <td>unacc</td>\n",
              "    </tr>\n",
              "  </tbody>\n",
              "</table>\n",
              "</div>\n",
              "      <button class=\"colab-df-convert\" onclick=\"convertToInteractive('df-4df24fb2-4d23-4e8b-9943-f2423257b666')\"\n",
              "              title=\"Convert this dataframe to an interactive table.\"\n",
              "              style=\"display:none;\">\n",
              "        \n",
              "  <svg xmlns=\"http://www.w3.org/2000/svg\" height=\"24px\"viewBox=\"0 0 24 24\"\n",
              "       width=\"24px\">\n",
              "    <path d=\"M0 0h24v24H0V0z\" fill=\"none\"/>\n",
              "    <path d=\"M18.56 5.44l.94 2.06.94-2.06 2.06-.94-2.06-.94-.94-2.06-.94 2.06-2.06.94zm-11 1L8.5 8.5l.94-2.06 2.06-.94-2.06-.94L8.5 2.5l-.94 2.06-2.06.94zm10 10l.94 2.06.94-2.06 2.06-.94-2.06-.94-.94-2.06-.94 2.06-2.06.94z\"/><path d=\"M17.41 7.96l-1.37-1.37c-.4-.4-.92-.59-1.43-.59-.52 0-1.04.2-1.43.59L10.3 9.45l-7.72 7.72c-.78.78-.78 2.05 0 2.83L4 21.41c.39.39.9.59 1.41.59.51 0 1.02-.2 1.41-.59l7.78-7.78 2.81-2.81c.8-.78.8-2.07 0-2.86zM5.41 20L4 18.59l7.72-7.72 1.47 1.35L5.41 20z\"/>\n",
              "  </svg>\n",
              "      </button>\n",
              "      \n",
              "  <style>\n",
              "    .colab-df-container {\n",
              "      display:flex;\n",
              "      flex-wrap:wrap;\n",
              "      gap: 12px;\n",
              "    }\n",
              "\n",
              "    .colab-df-convert {\n",
              "      background-color: #E8F0FE;\n",
              "      border: none;\n",
              "      border-radius: 50%;\n",
              "      cursor: pointer;\n",
              "      display: none;\n",
              "      fill: #1967D2;\n",
              "      height: 32px;\n",
              "      padding: 0 0 0 0;\n",
              "      width: 32px;\n",
              "    }\n",
              "\n",
              "    .colab-df-convert:hover {\n",
              "      background-color: #E2EBFA;\n",
              "      box-shadow: 0px 1px 2px rgba(60, 64, 67, 0.3), 0px 1px 3px 1px rgba(60, 64, 67, 0.15);\n",
              "      fill: #174EA6;\n",
              "    }\n",
              "\n",
              "    [theme=dark] .colab-df-convert {\n",
              "      background-color: #3B4455;\n",
              "      fill: #D2E3FC;\n",
              "    }\n",
              "\n",
              "    [theme=dark] .colab-df-convert:hover {\n",
              "      background-color: #434B5C;\n",
              "      box-shadow: 0px 1px 3px 1px rgba(0, 0, 0, 0.15);\n",
              "      filter: drop-shadow(0px 1px 2px rgba(0, 0, 0, 0.3));\n",
              "      fill: #FFFFFF;\n",
              "    }\n",
              "  </style>\n",
              "\n",
              "      <script>\n",
              "        const buttonEl =\n",
              "          document.querySelector('#df-4df24fb2-4d23-4e8b-9943-f2423257b666 button.colab-df-convert');\n",
              "        buttonEl.style.display =\n",
              "          google.colab.kernel.accessAllowed ? 'block' : 'none';\n",
              "\n",
              "        async function convertToInteractive(key) {\n",
              "          const element = document.querySelector('#df-4df24fb2-4d23-4e8b-9943-f2423257b666');\n",
              "          const dataTable =\n",
              "            await google.colab.kernel.invokeFunction('convertToInteractive',\n",
              "                                                     [key], {});\n",
              "          if (!dataTable) return;\n",
              "\n",
              "          const docLinkHtml = 'Like what you see? Visit the ' +\n",
              "            '<a target=\"_blank\" href=https://colab.research.google.com/notebooks/data_table.ipynb>data table notebook</a>'\n",
              "            + ' to learn more about interactive tables.';\n",
              "          element.innerHTML = '';\n",
              "          dataTable['output_type'] = 'display_data';\n",
              "          await google.colab.output.renderOutput(dataTable, element);\n",
              "          const docLink = document.createElement('div');\n",
              "          docLink.innerHTML = docLinkHtml;\n",
              "          element.appendChild(docLink);\n",
              "        }\n",
              "      </script>\n",
              "    </div>\n",
              "  </div>\n",
              "  "
            ],
            "text/plain": [
              "  Bprice Mprice doors persons lug_boots safety accuracy\n",
              "0  vhigh  vhigh     2       2     small    med    unacc\n",
              "1  vhigh  vhigh     2       2     small   high    unacc\n",
              "2  vhigh  vhigh     2       2       med    low    unacc\n",
              "3  vhigh  vhigh     2       2       med    med    unacc\n",
              "4  vhigh  vhigh     2       2       med   high    unacc"
            ]
          },
          "metadata": {},
          "execution_count": 16
        }
      ]
    },
    {
      "cell_type": "code",
      "source": [
        "# df.drop(['accuracy'],axis=1)"
      ],
      "metadata": {
        "id": "IbDVyzY6WxMe"
      },
      "execution_count": null,
      "outputs": []
    },
    {
      "cell_type": "code",
      "source": [
        "# import category_encoders as ce\n",
        "# encoder=ce.OrdinalEncoder(col=)"
      ],
      "metadata": {
        "id": "uFkFrn_PniUS"
      },
      "execution_count": null,
      "outputs": []
    },
    {
      "cell_type": "code",
      "source": [
        "sb.heatmap(df.isnull(),yticklabels=False,cbar=False)"
      ],
      "metadata": {
        "colab": {
          "base_uri": "https://localhost:8080/",
          "height": 283
        },
        "id": "LnZqpfUPYmu5",
        "outputId": "3fe3bed1-13c1-45d0-d789-ec8c43783754"
      },
      "execution_count": 17,
      "outputs": [
        {
          "output_type": "execute_result",
          "data": {
            "text/plain": [
              "<matplotlib.axes._subplots.AxesSubplot at 0x7fec93024690>"
            ]
          },
          "metadata": {},
          "execution_count": 17
        },
        {
          "output_type": "display_data",
          "data": {
            "image/png": "[encoded data removed]",
            "text/plain": [
              "<Figure size 432x288 with 1 Axes>"
            ]
          },
          "metadata": {
            "needs_background": "light"
          }
        }
      ]
    },
    {
      "cell_type": "code",
      "source": [
        "y=df.pop('accuracy')"
      ],
      "metadata": {
        "id": "Ri-n9iy7Y5HG"
      },
      "execution_count": 18,
      "outputs": []
    },
    {
      "cell_type": "code",
      "source": [
        "df.shape"
      ],
      "metadata": {
        "colab": {
          "base_uri": "https://localhost:8080/"
        },
        "id": "GpTufB7EZIt7",
        "outputId": "a42a3506-5d1c-4a9b-bd3f-ae6819cc2b89"
      },
      "execution_count": 19,
      "outputs": [
        {
          "output_type": "execute_result",
          "data": {
            "text/plain": [
              "(1727, 6)"
            ]
          },
          "metadata": {},
          "execution_count": 19
        }
      ]
    },
    {
      "cell_type": "code",
      "source": [
        "plt.plot(df['Bprice'])\n",
        "plt.xlabel('Number of Cars')\n",
        "plt.ylabel('Price Distribution')"
      ],
      "metadata": {
        "colab": {
          "base_uri": "https://localhost:8080/",
          "height": 296
        },
        "id": "XJVPO6gDZQ8_",
        "outputId": "e5f6eeef-7405-4d20-c6a6-186bdf01e001"
      },
      "execution_count": 20,
      "outputs": [
        {
          "output_type": "execute_result",
          "data": {
            "text/plain": [
              "Text(0, 0.5, 'Price Distribution')"
            ]
          },
          "metadata": {},
          "execution_count": 20
        },
        {
          "output_type": "display_data",
          "data": {
            "image/png": "[encoded data removed]",
            "text/plain": [
              "<Figure size 432x288 with 1 Axes>"
            ]
          },
          "metadata": {
            "needs_background": "light"
          }
        }
      ]
    },
    {
      "cell_type": "code",
      "source": [
        "# Splitting data\n",
        "x_train,x_test,y_train,y_test=train_test_split(df,y,test_size=0.2,random_state=42)\n",
        "print(\"train data - \",x_train.shape)\n",
        "print(\"test data - \",x_test.shape)"
      ],
      "metadata": {
        "colab": {
          "base_uri": "https://localhost:8080/"
        },
        "id": "Mj1D_msQaBI-",
        "outputId": "4aa11de5-61ba-427a-c84d-70cd3d7462dc"
      },
      "execution_count": 21,
      "outputs": [
        {
          "output_type": "stream",
          "name": "stdout",
          "text": [
            "train data -  (1381, 6)\n",
            "test data -  (346, 6)\n"
          ]
        }
      ]
    },
    {
      "cell_type": "code",
      "source": [
        "import category_encoders as ce\n",
        "encoder=ce.OrdinalEncoder(cols=['Bprice','Mprice','doors','persons','lug_boots','safety'])\n",
        "x_train=encoder.fit_transform(x_train)\n",
        "x_test=encoder.fit_transform(x_test)"
      ],
      "metadata": {
        "id": "l5GYD9S4oaox"
      },
      "execution_count": 23,
      "outputs": []
    },
    {
      "cell_type": "code",
      "source": [
        "x_train.head()"
      ],
      "metadata": {
        "colab": {
          "base_uri": "https://localhost:8080/",
          "height": 206
        },
        "id": "oWuOQ5c3pFNM",
        "outputId": "49d058b1-b653-49a3-98ad-5e58dce3ea0a"
      },
      "execution_count": 24,
      "outputs": [
        {
          "output_type": "execute_result",
          "data": {
            "text/html": [
              "\n",
              "  <div id=\"df-ab806e47-8d90-41cd-b0f2-4f6eec48a55d\">\n",
              "    <div class=\"colab-df-container\">\n",
              "      <div>\n",
              "<style scoped>\n",
              "    .dataframe tbody tr th:only-of-type {\n",
              "        vertical-align: middle;\n",
              "    }\n",
              "\n",
              "    .dataframe tbody tr th {\n",
              "        vertical-align: top;\n",
              "    }\n",
              "\n",
              "    .dataframe thead th {\n",
              "        text-align: right;\n",
              "    }\n",
              "</style>\n",
              "<table border=\"1\" class=\"dataframe\">\n",
              "  <thead>\n",
              "    <tr style=\"text-align: right;\">\n",
              "      <th></th>\n",
              "      <th>Bprice</th>\n",
              "      <th>Mprice</th>\n",
              "      <th>doors</th>\n",
              "      <th>persons</th>\n",
              "      <th>lug_boots</th>\n",
              "      <th>safety</th>\n",
              "    </tr>\n",
              "  </thead>\n",
              "  <tbody>\n",
              "    <tr>\n",
              "      <th>107</th>\n",
              "      <td>1</td>\n",
              "      <td>1</td>\n",
              "      <td>1</td>\n",
              "      <td>1</td>\n",
              "      <td>1</td>\n",
              "      <td>1</td>\n",
              "    </tr>\n",
              "    <tr>\n",
              "      <th>900</th>\n",
              "      <td>2</td>\n",
              "      <td>2</td>\n",
              "      <td>2</td>\n",
              "      <td>2</td>\n",
              "      <td>1</td>\n",
              "      <td>2</td>\n",
              "    </tr>\n",
              "    <tr>\n",
              "      <th>1708</th>\n",
              "      <td>3</td>\n",
              "      <td>3</td>\n",
              "      <td>3</td>\n",
              "      <td>1</td>\n",
              "      <td>2</td>\n",
              "      <td>3</td>\n",
              "    </tr>\n",
              "    <tr>\n",
              "      <th>705</th>\n",
              "      <td>4</td>\n",
              "      <td>4</td>\n",
              "      <td>4</td>\n",
              "      <td>1</td>\n",
              "      <td>3</td>\n",
              "      <td>2</td>\n",
              "    </tr>\n",
              "    <tr>\n",
              "      <th>678</th>\n",
              "      <td>4</td>\n",
              "      <td>4</td>\n",
              "      <td>2</td>\n",
              "      <td>1</td>\n",
              "      <td>3</td>\n",
              "      <td>2</td>\n",
              "    </tr>\n",
              "  </tbody>\n",
              "</table>\n",
              "</div>\n",
              "      <button class=\"colab-df-convert\" onclick=\"convertToInteractive('df-ab806e47-8d90-41cd-b0f2-4f6eec48a55d')\"\n",
              "              title=\"Convert this dataframe to an interactive table.\"\n",
              "              style=\"display:none;\">\n",
              "        \n",
              "  <svg xmlns=\"http://www.w3.org/2000/svg\" height=\"24px\"viewBox=\"0 0 24 24\"\n",
              "       width=\"24px\">\n",
              "    <path d=\"M0 0h24v24H0V0z\" fill=\"none\"/>\n",
              "    <path d=\"M18.56 5.44l.94 2.06.94-2.06 2.06-.94-2.06-.94-.94-2.06-.94 2.06-2.06.94zm-11 1L8.5 8.5l.94-2.06 2.06-.94-2.06-.94L8.5 2.5l-.94 2.06-2.06.94zm10 10l.94 2.06.94-2.06 2.06-.94-2.06-.94-.94-2.06-.94 2.06-2.06.94z\"/><path d=\"M17.41 7.96l-1.37-1.37c-.4-.4-.92-.59-1.43-.59-.52 0-1.04.2-1.43.59L10.3 9.45l-7.72 7.72c-.78.78-.78 2.05 0 2.83L4 21.41c.39.39.9.59 1.41.59.51 0 1.02-.2 1.41-.59l7.78-7.78 2.81-2.81c.8-.78.8-2.07 0-2.86zM5.41 20L4 18.59l7.72-7.72 1.47 1.35L5.41 20z\"/>\n",
              "  </svg>\n",
              "      </button>\n",
              "      \n",
              "  <style>\n",
              "    .colab-df-container {\n",
              "      display:flex;\n",
              "      flex-wrap:wrap;\n",
              "      gap: 12px;\n",
              "    }\n",
              "\n",
              "    .colab-df-convert {\n",
              "      background-color: #E8F0FE;\n",
              "      border: none;\n",
              "      border-radius: 50%;\n",
              "      cursor: pointer;\n",
              "      display: none;\n",
              "      fill: #1967D2;\n",
              "      height: 32px;\n",
              "      padding: 0 0 0 0;\n",
              "      width: 32px;\n",
              "    }\n",
              "\n",
              "    .colab-df-convert:hover {\n",
              "      background-color: #E2EBFA;\n",
              "      box-shadow: 0px 1px 2px rgba(60, 64, 67, 0.3), 0px 1px 3px 1px rgba(60, 64, 67, 0.15);\n",
              "      fill: #174EA6;\n",
              "    }\n",
              "\n",
              "    [theme=dark] .colab-df-convert {\n",
              "      background-color: #3B4455;\n",
              "      fill: #D2E3FC;\n",
              "    }\n",
              "\n",
              "    [theme=dark] .colab-df-convert:hover {\n",
              "      background-color: #434B5C;\n",
              "      box-shadow: 0px 1px 3px 1px rgba(0, 0, 0, 0.15);\n",
              "      filter: drop-shadow(0px 1px 2px rgba(0, 0, 0, 0.3));\n",
              "      fill: #FFFFFF;\n",
              "    }\n",
              "  </style>\n",
              "\n",
              "      <script>\n",
              "        const buttonEl =\n",
              "          document.querySelector('#df-ab806e47-8d90-41cd-b0f2-4f6eec48a55d button.colab-df-convert');\n",
              "        buttonEl.style.display =\n",
              "          google.colab.kernel.accessAllowed ? 'block' : 'none';\n",
              "\n",
              "        async function convertToInteractive(key) {\n",
              "          const element = document.querySelector('#df-ab806e47-8d90-41cd-b0f2-4f6eec48a55d');\n",
              "          const dataTable =\n",
              "            await google.colab.kernel.invokeFunction('convertToInteractive',\n",
              "                                                     [key], {});\n",
              "          if (!dataTable) return;\n",
              "\n",
              "          const docLinkHtml = 'Like what you see? Visit the ' +\n",
              "            '<a target=\"_blank\" href=https://colab.research.google.com/notebooks/data_table.ipynb>data table notebook</a>'\n",
              "            + ' to learn more about interactive tables.';\n",
              "          element.innerHTML = '';\n",
              "          dataTable['output_type'] = 'display_data';\n",
              "          await google.colab.output.renderOutput(dataTable, element);\n",
              "          const docLink = document.createElement('div');\n",
              "          docLink.innerHTML = docLinkHtml;\n",
              "          element.appendChild(docLink);\n",
              "        }\n",
              "      </script>\n",
              "    </div>\n",
              "  </div>\n",
              "  "
            ],
            "text/plain": [
              "      Bprice  Mprice  doors  persons  lug_boots  safety\n",
              "107        1       1      1        1          1       1\n",
              "900        2       2      2        2          1       2\n",
              "1708       3       3      3        1          2       3\n",
              "705        4       4      4        1          3       2\n",
              "678        4       4      2        1          3       2"
            ]
          },
          "metadata": {},
          "execution_count": 24
        }
      ]
    },
    {
      "cell_type": "code",
      "source": [
        "#Training model\n",
        "# Using Random Forest Classifier\n",
        "from sklearn.ensemble import RandomForestClassifier\n",
        "model=RandomForestClassifier(n_estimators=100)\n",
        "model.fit(x_train,y_train)\n",
        "score=model.score(x_test,y_test)\n",
        "print(score)"
      ],
      "metadata": {
        "colab": {
          "base_uri": "https://localhost:8080/"
        },
        "id": "YALEkWI7ai7q",
        "outputId": "16039ab0-c98a-4742-90fe-7f2d1f3f9eeb"
      },
      "execution_count": 25,
      "outputs": [
        {
          "output_type": "stream",
          "name": "stdout",
          "text": [
            "0.9595375722543352\n"
          ]
        }
      ]
    },
    {
      "cell_type": "code",
      "source": [
        "# Using K-Neighbors Classifier\n",
        "model2=KNeighborsClassifier(n_neighbors=7)\n",
        "model2.fit(x_train,y_train)\n",
        "score=model2.score(x_test,y_test)\n",
        "print(score)"
      ],
      "metadata": {
        "colab": {
          "base_uri": "https://localhost:8080/"
        },
        "id": "dutFGYMQrWdQ",
        "outputId": "fc885076-f8b0-47e4-84d2-d5c7dd9a6950"
      },
      "execution_count": 29,
      "outputs": [
        {
          "output_type": "stream",
          "name": "stdout",
          "text": [
            "0.9132947976878613\n"
          ]
        }
      ]
    },
    {
      "cell_type": "code",
      "source": [
        "y_pred=model.predict(x_test)"
      ],
      "metadata": {
        "id": "5SveFF8Ejuea"
      },
      "execution_count": 26,
      "outputs": []
    },
    {
      "cell_type": "code",
      "source": [
        "from sklearn.metrics import classification_report,confusion_matrix\n",
        "print(classification_report(y_test,y_pred))\n",
        "print(confusion_matrix(y_test,y_pred))"
      ],
      "metadata": {
        "colab": {
          "base_uri": "https://localhost:8080/"
        },
        "id": "xloutxcXkMB5",
        "outputId": "9633237e-0b68-42a2-e931-4441828313eb"
      },
      "execution_count": 27,
      "outputs": [
        {
          "output_type": "stream",
          "name": "stdout",
          "text": [
            "              precision    recall  f1-score   support\n",
            "\n",
            "         acc       0.91      0.96      0.94        77\n",
            "        good       0.90      0.60      0.72        15\n",
            "       unacc       1.00      1.00      1.00       237\n",
            "       vgood       0.72      0.76      0.74        17\n",
            "\n",
            "    accuracy                           0.96       346\n",
            "   macro avg       0.88      0.83      0.85       346\n",
            "weighted avg       0.96      0.96      0.96       346\n",
            "\n",
            "[[ 74   1   1   1]\n",
            " [  2   9   0   4]\n",
            " [  1   0 236   0]\n",
            " [  4   0   0  13]]\n"
          ]
        }
      ]
    },
    {
      "cell_type": "code",
      "source": [
        "res=model.predict(x_test)\n",
        "data=list(y_test)\n",
        "for i in range(len(res)):\n",
        "  print(\"pred - \",res[i],\"   real - \",data[i])"
      ],
      "metadata": {
        "colab": {
          "base_uri": "https://localhost:8080/"
        },
        "id": "RsC4kP2TrEui",
        "outputId": "824551df-c8f7-4398-c99a-d7dc3d0e05fb"
      },
      "execution_count": 28,
      "outputs": [
        {
          "output_type": "stream",
          "name": "stdout",
          "text": [
            "pred -  unacc    real -  unacc\n",
            "pred -  unacc    real -  unacc\n",
            "pred -  unacc    real -  unacc\n",
            "pred -  acc    real -  acc\n",
            "pred -  unacc    real -  unacc\n",
            "pred -  acc    real -  acc\n",
            "pred -  unacc    real -  unacc\n",
            "pred -  unacc    real -  unacc\n",
            "pred -  unacc    real -  unacc\n",
            "pred -  unacc    real -  unacc\n",
            "pred -  acc    real -  vgood\n",
            "pred -  unacc    real -  unacc\n",
            "pred -  unacc    real -  unacc\n",
            "pred -  unacc    real -  unacc\n",
            "pred -  unacc    real -  unacc\n",
            "pred -  unacc    real -  unacc\n",
            "pred -  unacc    real -  unacc\n",
            "pred -  unacc    real -  unacc\n",
            "pred -  unacc    real -  unacc\n",
            "pred -  acc    real -  acc\n",
            "pred -  unacc    real -  unacc\n",
            "pred -  unacc    real -  unacc\n",
            "pred -  acc    real -  acc\n",
            "pred -  unacc    real -  unacc\n",
            "pred -  unacc    real -  unacc\n",
            "pred -  acc    real -  acc\n",
            "pred -  unacc    real -  unacc\n",
            "pred -  unacc    real -  unacc\n",
            "pred -  unacc    real -  unacc\n",
            "pred -  unacc    real -  unacc\n",
            "pred -  acc    real -  acc\n",
            "pred -  unacc    real -  unacc\n",
            "pred -  unacc    real -  unacc\n",
            "pred -  good    real -  good\n",
            "pred -  unacc    real -  unacc\n",
            "pred -  unacc    real -  unacc\n",
            "pred -  good    real -  good\n",
            "pred -  unacc    real -  unacc\n",
            "pred -  unacc    real -  unacc\n",
            "pred -  vgood    real -  vgood\n",
            "pred -  acc    real -  acc\n",
            "pred -  acc    real -  acc\n",
            "pred -  unacc    real -  unacc\n",
            "pred -  unacc    real -  unacc\n",
            "pred -  acc    real -  acc\n",
            "pred -  acc    real -  vgood\n",
            "pred -  unacc    real -  unacc\n",
            "pred -  unacc    real -  unacc\n",
            "pred -  unacc    real -  unacc\n",
            "pred -  unacc    real -  unacc\n",
            "pred -  unacc    real -  unacc\n",
            "pred -  unacc    real -  unacc\n",
            "pred -  acc    real -  acc\n",
            "pred -  acc    real -  acc\n",
            "pred -  unacc    real -  unacc\n",
            "pred -  unacc    real -  unacc\n",
            "pred -  unacc    real -  unacc\n",
            "pred -  unacc    real -  unacc\n",
            "pred -  unacc    real -  unacc\n",
            "pred -  acc    real -  acc\n",
            "pred -  unacc    real -  unacc\n",
            "pred -  unacc    real -  unacc\n",
            "pred -  unacc    real -  unacc\n",
            "pred -  unacc    real -  unacc\n",
            "pred -  unacc    real -  unacc\n",
            "pred -  vgood    real -  vgood\n",
            "pred -  unacc    real -  unacc\n",
            "pred -  unacc    real -  unacc\n",
            "pred -  acc    real -  good\n",
            "pred -  unacc    real -  unacc\n",
            "pred -  acc    real -  vgood\n",
            "pred -  acc    real -  acc\n",
            "pred -  unacc    real -  unacc\n",
            "pred -  unacc    real -  unacc\n",
            "pred -  unacc    real -  unacc\n",
            "pred -  acc    real -  acc\n",
            "pred -  unacc    real -  unacc\n",
            "pred -  unacc    real -  unacc\n",
            "pred -  unacc    real -  unacc\n",
            "pred -  unacc    real -  unacc\n",
            "pred -  vgood    real -  vgood\n",
            "pred -  unacc    real -  unacc\n",
            "pred -  unacc    real -  unacc\n",
            "pred -  acc    real -  acc\n",
            "pred -  unacc    real -  unacc\n",
            "pred -  acc    real -  acc\n",
            "pred -  unacc    real -  unacc\n",
            "pred -  unacc    real -  unacc\n",
            "pred -  acc    real -  acc\n",
            "pred -  acc    real -  acc\n",
            "pred -  unacc    real -  unacc\n",
            "pred -  good    real -  good\n",
            "pred -  unacc    real -  unacc\n",
            "pred -  unacc    real -  unacc\n",
            "pred -  unacc    real -  unacc\n",
            "pred -  unacc    real -  unacc\n",
            "pred -  unacc    real -  unacc\n",
            "pred -  unacc    real -  unacc\n",
            "pred -  unacc    real -  unacc\n",
            "pred -  acc    real -  acc\n",
            "pred -  unacc    real -  unacc\n",
            "pred -  unacc    real -  unacc\n",
            "pred -  unacc    real -  unacc\n",
            "pred -  unacc    real -  unacc\n",
            "pred -  unacc    real -  unacc\n",
            "pred -  good    real -  good\n",
            "pred -  acc    real -  acc\n",
            "pred -  unacc    real -  unacc\n",
            "pred -  unacc    real -  unacc\n",
            "pred -  acc    real -  acc\n",
            "pred -  unacc    real -  unacc\n",
            "pred -  acc    real -  acc\n",
            "pred -  unacc    real -  unacc\n",
            "pred -  unacc    real -  unacc\n",
            "pred -  acc    real -  acc\n",
            "pred -  unacc    real -  unacc\n",
            "pred -  unacc    real -  unacc\n",
            "pred -  unacc    real -  unacc\n",
            "pred -  unacc    real -  unacc\n",
            "pred -  unacc    real -  unacc\n",
            "pred -  unacc    real -  unacc\n",
            "pred -  acc    real -  acc\n",
            "pred -  unacc    real -  unacc\n",
            "pred -  acc    real -  acc\n",
            "pred -  acc    real -  acc\n",
            "pred -  unacc    real -  unacc\n",
            "pred -  good    real -  acc\n",
            "pred -  unacc    real -  unacc\n",
            "pred -  unacc    real -  unacc\n",
            "pred -  unacc    real -  unacc\n",
            "pred -  unacc    real -  unacc\n",
            "pred -  unacc    real -  unacc\n",
            "pred -  unacc    real -  unacc\n",
            "pred -  unacc    real -  unacc\n",
            "pred -  unacc    real -  unacc\n",
            "pred -  unacc    real -  unacc\n",
            "pred -  unacc    real -  unacc\n",
            "pred -  unacc    real -  unacc\n",
            "pred -  unacc    real -  unacc\n",
            "pred -  unacc    real -  unacc\n",
            "pred -  unacc    real -  unacc\n",
            "pred -  acc    real -  acc\n",
            "pred -  unacc    real -  unacc\n",
            "pred -  acc    real -  acc\n",
            "pred -  unacc    real -  unacc\n",
            "pred -  acc    real -  acc\n",
            "pred -  unacc    real -  unacc\n",
            "pred -  unacc    real -  unacc\n",
            "pred -  acc    real -  acc\n",
            "pred -  unacc    real -  unacc\n",
            "pred -  acc    real -  acc\n",
            "pred -  vgood    real -  vgood\n",
            "pred -  unacc    real -  unacc\n",
            "pred -  unacc    real -  unacc\n",
            "pred -  unacc    real -  unacc\n",
            "pred -  unacc    real -  unacc\n",
            "pred -  unacc    real -  unacc\n",
            "pred -  unacc    real -  unacc\n",
            "pred -  unacc    real -  unacc\n",
            "pred -  unacc    real -  unacc\n",
            "pred -  acc    real -  acc\n",
            "pred -  acc    real -  acc\n",
            "pred -  unacc    real -  unacc\n",
            "pred -  vgood    real -  vgood\n",
            "pred -  unacc    real -  unacc\n",
            "pred -  vgood    real -  vgood\n",
            "pred -  acc    real -  acc\n",
            "pred -  acc    real -  acc\n",
            "pred -  unacc    real -  unacc\n",
            "pred -  vgood    real -  vgood\n",
            "pred -  acc    real -  acc\n",
            "pred -  unacc    real -  unacc\n",
            "pred -  vgood    real -  vgood\n",
            "pred -  unacc    real -  unacc\n",
            "pred -  acc    real -  acc\n",
            "pred -  acc    real -  acc\n",
            "pred -  vgood    real -  vgood\n",
            "pred -  unacc    real -  unacc\n",
            "pred -  acc    real -  acc\n",
            "pred -  unacc    real -  unacc\n",
            "pred -  acc    real -  acc\n",
            "pred -  unacc    real -  unacc\n",
            "pred -  unacc    real -  unacc\n",
            "pred -  acc    real -  acc\n",
            "pred -  good    real -  good\n",
            "pred -  unacc    real -  unacc\n",
            "pred -  unacc    real -  unacc\n",
            "pred -  unacc    real -  unacc\n",
            "pred -  unacc    real -  unacc\n",
            "pred -  unacc    real -  unacc\n",
            "pred -  unacc    real -  unacc\n",
            "pred -  acc    real -  acc\n",
            "pred -  acc    real -  acc\n",
            "pred -  unacc    real -  unacc\n",
            "pred -  unacc    real -  unacc\n",
            "pred -  unacc    real -  unacc\n",
            "pred -  acc    real -  acc\n",
            "pred -  unacc    real -  unacc\n",
            "pred -  unacc    real -  unacc\n",
            "pred -  unacc    real -  unacc\n",
            "pred -  unacc    real -  unacc\n",
            "pred -  unacc    real -  unacc\n",
            "pred -  unacc    real -  unacc\n",
            "pred -  vgood    real -  vgood\n",
            "pred -  unacc    real -  unacc\n",
            "pred -  acc    real -  acc\n",
            "pred -  unacc    real -  unacc\n",
            "pred -  acc    real -  acc\n",
            "pred -  unacc    real -  unacc\n",
            "pred -  vgood    real -  good\n",
            "pred -  unacc    real -  unacc\n",
            "pred -  unacc    real -  unacc\n",
            "pred -  acc    real -  acc\n",
            "pred -  unacc    real -  unacc\n",
            "pred -  unacc    real -  unacc\n",
            "pred -  unacc    real -  unacc\n",
            "pred -  unacc    real -  unacc\n",
            "pred -  unacc    real -  unacc\n",
            "pred -  unacc    real -  unacc\n",
            "pred -  vgood    real -  acc\n",
            "pred -  acc    real -  vgood\n",
            "pred -  unacc    real -  unacc\n",
            "pred -  unacc    real -  unacc\n",
            "pred -  acc    real -  acc\n",
            "pred -  vgood    real -  good\n",
            "pred -  acc    real -  acc\n",
            "pred -  acc    real -  acc\n",
            "pred -  acc    real -  acc\n",
            "pred -  unacc    real -  unacc\n",
            "pred -  unacc    real -  unacc\n",
            "pred -  acc    real -  acc\n",
            "pred -  unacc    real -  unacc\n",
            "pred -  unacc    real -  unacc\n",
            "pred -  unacc    real -  unacc\n",
            "pred -  acc    real -  acc\n",
            "pred -  unacc    real -  unacc\n",
            "pred -  acc    real -  acc\n",
            "pred -  unacc    real -  unacc\n",
            "pred -  unacc    real -  unacc\n",
            "pred -  unacc    real -  unacc\n",
            "pred -  unacc    real -  unacc\n",
            "pred -  unacc    real -  unacc\n",
            "pred -  unacc    real -  unacc\n",
            "pred -  unacc    real -  unacc\n",
            "pred -  unacc    real -  unacc\n",
            "pred -  unacc    real -  unacc\n",
            "pred -  unacc    real -  unacc\n",
            "pred -  unacc    real -  unacc\n",
            "pred -  unacc    real -  unacc\n",
            "pred -  unacc    real -  unacc\n",
            "pred -  unacc    real -  unacc\n",
            "pred -  unacc    real -  unacc\n",
            "pred -  unacc    real -  unacc\n",
            "pred -  acc    real -  acc\n",
            "pred -  acc    real -  acc\n",
            "pred -  unacc    real -  unacc\n",
            "pred -  unacc    real -  unacc\n",
            "pred -  unacc    real -  unacc\n",
            "pred -  unacc    real -  unacc\n",
            "pred -  unacc    real -  unacc\n",
            "pred -  acc    real -  acc\n",
            "pred -  unacc    real -  unacc\n",
            "pred -  vgood    real -  good\n",
            "pred -  unacc    real -  unacc\n",
            "pred -  unacc    real -  unacc\n",
            "pred -  unacc    real -  unacc\n",
            "pred -  acc    real -  acc\n",
            "pred -  acc    real -  acc\n",
            "pred -  unacc    real -  unacc\n",
            "pred -  unacc    real -  unacc\n",
            "pred -  unacc    real -  unacc\n",
            "pred -  unacc    real -  unacc\n",
            "pred -  acc    real -  acc\n",
            "pred -  unacc    real -  unacc\n",
            "pred -  acc    real -  acc\n",
            "pred -  acc    real -  acc\n",
            "pred -  acc    real -  unacc\n",
            "pred -  good    real -  good\n",
            "pred -  unacc    real -  unacc\n",
            "pred -  unacc    real -  unacc\n",
            "pred -  unacc    real -  unacc\n",
            "pred -  good    real -  good\n",
            "pred -  unacc    real -  unacc\n",
            "pred -  acc    real -  acc\n",
            "pred -  vgood    real -  good\n",
            "pred -  acc    real -  acc\n",
            "pred -  unacc    real -  unacc\n",
            "pred -  good    real -  good\n",
            "pred -  vgood    real -  vgood\n",
            "pred -  unacc    real -  unacc\n",
            "pred -  good    real -  good\n",
            "pred -  unacc    real -  unacc\n",
            "pred -  unacc    real -  unacc\n",
            "pred -  unacc    real -  unacc\n",
            "pred -  acc    real -  acc\n",
            "pred -  vgood    real -  vgood\n",
            "pred -  unacc    real -  unacc\n",
            "pred -  unacc    real -  unacc\n",
            "pred -  unacc    real -  unacc\n",
            "pred -  unacc    real -  unacc\n",
            "pred -  acc    real -  acc\n",
            "pred -  unacc    real -  acc\n",
            "pred -  unacc    real -  unacc\n",
            "pred -  unacc    real -  unacc\n",
            "pred -  unacc    real -  unacc\n",
            "pred -  unacc    real -  unacc\n",
            "pred -  unacc    real -  unacc\n",
            "pred -  unacc    real -  unacc\n",
            "pred -  acc    real -  acc\n",
            "pred -  unacc    real -  unacc\n",
            "pred -  vgood    real -  vgood\n",
            "pred -  unacc    real -  unacc\n",
            "pred -  unacc    real -  unacc\n",
            "pred -  unacc    real -  unacc\n",
            "pred -  unacc    real -  unacc\n",
            "pred -  acc    real -  acc\n",
            "pred -  acc    real -  acc\n",
            "pred -  acc    real -  acc\n",
            "pred -  unacc    real -  unacc\n",
            "pred -  unacc    real -  unacc\n",
            "pred -  acc    real -  acc\n",
            "pred -  unacc    real -  unacc\n",
            "pred -  unacc    real -  unacc\n",
            "pred -  unacc    real -  unacc\n",
            "pred -  unacc    real -  unacc\n",
            "pred -  unacc    real -  unacc\n",
            "pred -  acc    real -  good\n",
            "pred -  acc    real -  acc\n",
            "pred -  unacc    real -  unacc\n",
            "pred -  unacc    real -  unacc\n",
            "pred -  unacc    real -  unacc\n",
            "pred -  unacc    real -  unacc\n",
            "pred -  unacc    real -  unacc\n",
            "pred -  unacc    real -  unacc\n",
            "pred -  unacc    real -  unacc\n",
            "pred -  unacc    real -  unacc\n",
            "pred -  unacc    real -  unacc\n",
            "pred -  acc    real -  acc\n",
            "pred -  unacc    real -  unacc\n",
            "pred -  acc    real -  acc\n",
            "pred -  unacc    real -  unacc\n",
            "pred -  unacc    real -  unacc\n",
            "pred -  unacc    real -  unacc\n",
            "pred -  unacc    real -  unacc\n",
            "pred -  unacc    real -  unacc\n",
            "pred -  unacc    real -  unacc\n"
          ]
        }
      ]
    }
  ]
}